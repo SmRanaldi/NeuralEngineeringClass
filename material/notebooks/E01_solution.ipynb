{
  "cells": [
    {
      "cell_type": "markdown",
      "metadata": {
        "id": "7qPiHZ-uvSsc"
      },
      "source": [
        "# Exercise 1 - Python basics"
      ]
    },
    {
      "cell_type": "markdown",
      "metadata": {
        "id": "cU1Yn9cBvSsg"
      },
      "source": [
        "## 1.1"
      ]
    },
    {
      "cell_type": "markdown",
      "metadata": {
        "id": "fbCNTXdBvSsh"
      },
      "source": [
        "Declare two variables and assign them the values 3 and 1. Print both values, then change the value of the second variable to 2 and print the division between the two values"
      ]
    },
    {
      "cell_type": "code",
      "execution_count": 1,
      "metadata": {
        "colab": {
          "base_uri": "https://localhost:8080/"
        },
        "id": "0jGquzG3vSsi",
        "outputId": "fb454b69-7c5c-44a7-86fa-d172c8bb5a69"
      },
      "outputs": [
        {
          "output_type": "stream",
          "name": "stdout",
          "text": [
            "3\n",
            "1\n",
            "1.5\n"
          ]
        }
      ],
      "source": [
        "x = 3\n",
        "y = 1\n",
        "print(x)\n",
        "print(y)\n",
        "y = 2\n",
        "print(x/y)"
      ]
    },
    {
      "cell_type": "markdown",
      "metadata": {
        "id": "TBOgscLKvSsi"
      },
      "source": [
        "## 1.2"
      ]
    },
    {
      "cell_type": "markdown",
      "metadata": {
        "id": "yUVC2JTgvSsj"
      },
      "source": [
        "Define a list of all the numbers from 0 to 9. Change the third value to 10.\n",
        "\n",
        "Then try to realize the same operation with a tuple. What changes?"
      ]
    },
    {
      "cell_type": "code",
      "execution_count": 2,
      "metadata": {
        "id": "cA3DeJWhvSsk"
      },
      "outputs": [],
      "source": [
        "ll = [x for x in range(10)]\n",
        "ll[2] = 10"
      ]
    },
    {
      "cell_type": "markdown",
      "metadata": {
        "id": "N1Q3cxW9vSsk"
      },
      "source": [
        "## 1.3"
      ]
    },
    {
      "cell_type": "markdown",
      "metadata": {
        "id": "KHPs94HavSsl"
      },
      "source": [
        "Starting from the list created in 1.2, print all its values, each in a separate line.\n",
        "\n",
        "Additional point: generalize the code to work with any list, of any length (documentation or stackoverflow might be useful)"
      ]
    },
    {
      "cell_type": "code",
      "execution_count": 4,
      "metadata": {
        "colab": {
          "base_uri": "https://localhost:8080/"
        },
        "id": "Issnyb-BvSsm",
        "outputId": "3a5f6677-e4f3-46fa-8d4c-68526897b223"
      },
      "outputs": [
        {
          "output_type": "stream",
          "name": "stdout",
          "text": [
            "0\n",
            "1\n",
            "2\n",
            "3\n",
            "4\n",
            "5\n",
            "6\n",
            "7\n",
            "8\n",
            "9\n"
          ]
        }
      ],
      "source": [
        "for x in ll:\n",
        "  print(x)"
      ]
    },
    {
      "cell_type": "markdown",
      "metadata": {
        "id": "NQfgEWezvSsm"
      },
      "source": [
        "## 1.4"
      ]
    },
    {
      "cell_type": "markdown",
      "metadata": {
        "id": "hj6a1wgbvSsn"
      },
      "source": [
        "Define a function that prints if a number is even or odd"
      ]
    },
    {
      "cell_type": "code",
      "execution_count": 5,
      "metadata": {
        "colab": {
          "base_uri": "https://localhost:8080/"
        },
        "id": "AKdGssPJvSso",
        "outputId": "b096054f-87c0-4d79-e8ec-b810b64b8c23"
      },
      "outputs": [
        {
          "output_type": "stream",
          "name": "stdout",
          "text": [
            "x is even\n"
          ]
        }
      ],
      "source": [
        "def isEven(x):\n",
        "  if x % 2:\n",
        "    print('x is odd')\n",
        "  else:\n",
        "    print('x is even')\n",
        "\n",
        "isEven(8)"
      ]
    },
    {
      "cell_type": "markdown",
      "metadata": {
        "id": "agoEquSmvSso"
      },
      "source": [
        "## 1.5"
      ]
    },
    {
      "cell_type": "markdown",
      "metadata": {
        "id": "gDqZie3tvSso"
      },
      "source": [
        "Define a function that calculates the factorial of any number."
      ]
    },
    {
      "cell_type": "code",
      "execution_count": 7,
      "metadata": {
        "colab": {
          "base_uri": "https://localhost:8080/"
        },
        "id": "aljseU5xvSsp",
        "outputId": "dd87eb7b-8525-43d5-dd48-f29fd5a84da5"
      },
      "outputs": [
        {
          "output_type": "stream",
          "name": "stdout",
          "text": [
            "3628800\n"
          ]
        }
      ],
      "source": [
        "def factorial(x):\n",
        "  out = 1\n",
        "  for i in range(1,x+1):\n",
        "    out *= i\n",
        "  return out\n",
        "\n",
        "print(factorial(10))"
      ]
    }
  ],
  "metadata": {
    "kernelspec": {
      "display_name": "Python 3",
      "language": "python",
      "name": "python3"
    },
    "language_info": {
      "codemirror_mode": {
        "name": "ipython",
        "version": 3
      },
      "file_extension": ".py",
      "mimetype": "text/x-python",
      "name": "python",
      "nbconvert_exporter": "python",
      "pygments_lexer": "ipython3",
      "version": "3.8.3"
    },
    "colab": {
      "name": "E01.ipynb",
      "provenance": []
    }
  },
  "nbformat": 4,
  "nbformat_minor": 0
}