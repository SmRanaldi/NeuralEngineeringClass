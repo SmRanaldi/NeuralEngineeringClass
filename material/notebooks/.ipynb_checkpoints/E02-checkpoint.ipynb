{
 "cells": [
  {
   "cell_type": "markdown",
   "metadata": {},
   "source": [
    "# Exercise 2 - Numpy, Matplotlib and Pandas"
   ]
  },
  {
   "cell_type": "markdown",
   "metadata": {},
   "source": [
    "<span style='color: red;'>**Attention**</span>: all the exercises can be solved by adapting the examples given in the first two demo notebooks; anyway, some calculations and implementations can be highly verbose and complicated if no pre-implemented methods are used. The general idea is that code portions must be as compact as possible, while still maintaining readability.\n",
    "\n",
    "Those additional methods have not been presented in the previous demonstration, but you can check the numpy documentation (https://numpy.org/doc/stable/) for finding already existing methods. Moreover, Google search and stackoverflow.com are essential resources for finding code snippets and known issues with the implementation of several different and complex mathematical procedures."
   ]
  },
  {
   "cell_type": "markdown",
   "metadata": {},
   "source": [
    "## 2.1"
   ]
  },
  {
   "cell_type": "markdown",
   "metadata": {},
   "source": [
    "Define a function `evaluate_linear_model` that takes as input a matrix `A` of the coefficients for a linear model:\n",
    "\n",
    "    Y(1) = A(1,1)*X(1) + ... + A(1,N)*X(N)\n",
    "    Y(1) = A(2,1)*X(1) + ... + A(2,N)*X(N)\n",
    "    .\n",
    "    .\n",
    "    .\n",
    "    Y(M) = A(M,1)*X(1) + ... + A(M,N)*X(N)\n",
    "    \n",
    "and an input vector and gives as output the linear model evaluated in the point corresponding to the input vector.\n",
    "\n",
    "<span style='color: red;'>**Note**</span>: the function must check if the input shapes are compatible, and exiting with an error if the evaluation of the model is not possible"
   ]
  },
  {
   "cell_type": "code",
   "execution_count": null,
   "metadata": {},
   "outputs": [],
   "source": []
  },
  {
   "cell_type": "markdown",
   "metadata": {},
   "source": [
    "\n",
    "\n"
   ]
  },
  {
   "cell_type": "markdown",
   "metadata": {},
   "source": [
    "## 2.2"
   ]
  },
  {
   "cell_type": "markdown",
   "metadata": {},
   "source": [
    "Generate an array composed of 2000 random uniform values in the range [5,10). Display mean and standard deviation of the underlying distribution. Plot the histogram."
   ]
  },
  {
   "cell_type": "code",
   "execution_count": null,
   "metadata": {},
   "outputs": [],
   "source": []
  },
  {
   "cell_type": "markdown",
   "metadata": {},
   "source": [
    "Generate an array composed by 1000 values drawn from a gaussian distribution with mean value 3 and variance 1.5. Check the actual values of the mean and variance of the elements of this arrays and plot the distribution.\n",
    "\n",
    "Repeat the process with arrays drawn from the same distribution, composed of either 10 and 10000 samples; how do the mean and variance estimates change? Plot the three histograms in the same figure"
   ]
  },
  {
   "cell_type": "code",
   "execution_count": null,
   "metadata": {},
   "outputs": [],
   "source": []
  },
  {
   "cell_type": "markdown",
   "metadata": {},
   "source": [
    " \n",
    "  \n",
    "  "
   ]
  },
  {
   "cell_type": "markdown",
   "metadata": {},
   "source": [
    "## 2.3 - Least squares fitting"
   ]
  },
  {
   "cell_type": "markdown",
   "metadata": {},
   "source": [
    "### 2.3.1 - Define the signal"
   ]
  },
  {
   "cell_type": "markdown",
   "metadata": {},
   "source": [
    "Define a vector X, composed of 100 equally spaced values between 0 and 50. Define Y as 0.2 * X + 1."
   ]
  },
  {
   "cell_type": "code",
   "execution_count": null,
   "metadata": {},
   "outputs": [],
   "source": []
  },
  {
   "cell_type": "markdown",
   "metadata": {},
   "source": [
    "Plot the (X,Y) points, as black dots."
   ]
  },
  {
   "cell_type": "code",
   "execution_count": null,
   "metadata": {},
   "outputs": [],
   "source": []
  },
  {
   "cell_type": "markdown",
   "metadata": {},
   "source": [
    "Add zero mean noise with variance 0.1 on the Y values, to define the vector Y_noise. Plot (X,Y) in black dots and (X,Y_noise) in red dots"
   ]
  },
  {
   "cell_type": "code",
   "execution_count": null,
   "metadata": {},
   "outputs": [],
   "source": []
  },
  {
   "cell_type": "markdown",
   "metadata": {},
   "source": [
    "### 2.3.2 - Write the fit function"
   ]
  },
  {
   "cell_type": "markdown",
   "metadata": {},
   "source": [
    "Define a function `ls_fit` that takes as input a vector of X values and a vector of corresponding Y values and find the angular coefficient A and the intercept B of the best fitting line.\n",
    "\n",
    "For this step, you can either use pre-built methods in Numpy (or Scipy https://docs.scipy.org/doc/), or write your own equations."
   ]
  },
  {
   "cell_type": "code",
   "execution_count": null,
   "metadata": {},
   "outputs": [],
   "source": []
  },
  {
   "cell_type": "markdown",
   "metadata": {},
   "source": [
    "### 2.3.3 - Apply the fit function and plot the results"
   ]
  },
  {
   "cell_type": "markdown",
   "metadata": {},
   "source": [
    "Apply the `ls_fit` function to the (X,Y_noise) data points.\n",
    "\n",
    "Plot the original (X, Y_noise) points in red dots and the best fitting line in the range [0,50] in black."
   ]
  },
  {
   "cell_type": "code",
   "execution_count": null,
   "metadata": {},
   "outputs": [],
   "source": []
  },
  {
   "cell_type": "markdown",
   "id": "invisible-laptop",
   "metadata": {},
   "source": [
    "## 2.4 - Count occurencies in a dataframe"
   ]
  },
  {
   "cell_type": "markdown",
   "id": "retired-state",
   "metadata": {},
   "source": [
    "Load the Iris dataset in the same way as in the Demo 3 notebook and count the number of examples of each different species"
   ]
  },
  {
   "cell_type": "code",
   "execution_count": null,
   "id": "unexpected-quick",
   "metadata": {},
   "outputs": [],
   "source": [
    "# Import the pandas library\n",
    "\n",
    "# Load the dataset\n",
    "\n",
    "# Visualize the dataframe"
   ]
  },
  {
   "cell_type": "markdown",
   "id": "white-thumbnail",
   "metadata": {},
   "source": [
    "Define a list of all the species contained in the dataset, and save the results in a python dictionary"
   ]
  },
  {
   "cell_type": "code",
   "execution_count": null,
   "id": "faced-partition",
   "metadata": {},
   "outputs": [],
   "source": [
    "# Find the name of the species contained in the dataset\n",
    "\n",
    "# Initialize empty dictionary\n",
    "\n",
    "# Update the dictionary for each species"
   ]
  },
  {
   "cell_type": "markdown",
   "id": "united-mitchell",
   "metadata": {},
   "source": [
    "## 2.5 - Filter elements in the dataframe"
   ]
  },
  {
   "cell_type": "markdown",
   "id": "duplicate-savage",
   "metadata": {},
   "source": [
    "Create a copy of the dataframe with only the elements with a `petal_width` less than 1.5."
   ]
  },
  {
   "cell_type": "code",
   "execution_count": null,
   "id": "danish-effort",
   "metadata": {},
   "outputs": [],
   "source": [
    "# Create a copy of the dataset\n",
    "\n",
    "# Find the indexes of the rows to eliminate\n",
    "\n",
    "# Drop the rows"
   ]
  },
  {
   "cell_type": "markdown",
   "id": "fifth-bradford",
   "metadata": {},
   "source": [
    "On the new dataframe, evaluate the percentage of elements of all the species"
   ]
  },
  {
   "cell_type": "code",
   "execution_count": null,
   "id": "theoretical-sociology",
   "metadata": {},
   "outputs": [],
   "source": []
  },
  {
   "cell_type": "markdown",
   "id": "intense-pendant",
   "metadata": {},
   "source": [
    "Compare the species by species number of element with a `petal_width` smaller than 1.5"
   ]
  },
  {
   "cell_type": "code",
   "execution_count": null,
   "id": "dressed-suspension",
   "metadata": {},
   "outputs": [],
   "source": []
  },
  {
   "cell_type": "markdown",
   "id": "forty-appliance",
   "metadata": {},
   "source": [
    "Define the species by species mean `sepal_length`. Save the results in a dictionary"
   ]
  },
  {
   "cell_type": "code",
   "execution_count": null,
   "id": "legal-mississippi",
   "metadata": {},
   "outputs": [],
   "source": []
  },
  {
   "cell_type": "markdown",
   "id": "floating-circulation",
   "metadata": {},
   "source": [
    "## 2.6 Visualize the dataframe"
   ]
  },
  {
   "cell_type": "markdown",
   "id": "dietary-registrar",
   "metadata": {},
   "source": [
    "Plot the species by species `petal_width` histogram on the original dataset, each in a separate `subplot`\n",
    "\n",
    "<span style='color:red;font-weight:bold;'>Warning</span>: no reload of the dataset is allowed. Careful with slicing and copying in the previous points"
   ]
  },
  {
   "cell_type": "code",
   "execution_count": null,
   "id": "closing-toilet",
   "metadata": {},
   "outputs": [],
   "source": []
  },
  {
   "cell_type": "markdown",
   "id": "compound-guest",
   "metadata": {},
   "source": [
    "In different plots, plot all the combinations of 2 different features, using dots of a different color for each species"
   ]
  },
  {
   "cell_type": "code",
   "execution_count": null,
   "id": "pacific-subject",
   "metadata": {},
   "outputs": [],
   "source": []
  },
  {
   "cell_type": "markdown",
   "id": "smooth-personal",
   "metadata": {},
   "source": [
    "In different 3-D plots, plot all the combinations of 3 different features, using dots of a different color for each species"
   ]
  },
  {
   "cell_type": "code",
   "execution_count": null,
   "id": "funny-equipment",
   "metadata": {},
   "outputs": [],
   "source": []
  }
 ],
 "metadata": {
  "kernelspec": {
   "display_name": "Python 3",
   "language": "python",
   "name": "python3"
  },
  "language_info": {
   "codemirror_mode": {
    "name": "ipython",
    "version": 3
   },
   "file_extension": ".py",
   "mimetype": "text/x-python",
   "name": "python",
   "nbconvert_exporter": "python",
   "pygments_lexer": "ipython3",
   "version": "3.9.7"
  }
 },
 "nbformat": 4,
 "nbformat_minor": 4
}
