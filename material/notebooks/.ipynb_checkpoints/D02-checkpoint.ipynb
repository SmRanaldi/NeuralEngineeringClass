{
 "cells": [
  {
   "cell_type": "markdown",
   "metadata": {},
   "source": [
    "# Numpy"
   ]
  },
  {
   "cell_type": "markdown",
   "metadata": {},
   "source": [
    "## Import a module"
   ]
  },
  {
   "cell_type": "markdown",
   "metadata": {},
   "source": [
    "External modules can be imported using the `import` keyword. Using the `as` keyword it is possible to assign an alias to the module. In standard Python codes, the most used libraries are imported with standard aliases (not compulsory)."
   ]
  },
  {
   "cell_type": "code",
   "execution_count": 2,
   "metadata": {},
   "outputs": [],
   "source": [
    "import numpy as np # np is the standard alias for the numpy library"
   ]
  },
  {
   "cell_type": "markdown",
   "metadata": {},
   "source": [
    "Submodules can be importes with the same syntax"
   ]
  },
  {
   "cell_type": "code",
   "execution_count": 3,
   "metadata": {},
   "outputs": [],
   "source": [
    "import matplotlib.pyplot as plt # plt is the standard alias for the pyplot submodule of matplotlib"
   ]
  },
  {
   "cell_type": "markdown",
   "metadata": {},
   "source": [
    "## Arrays in numpy"
   ]
  },
  {
   "cell_type": "markdown",
   "metadata": {},
   "source": [
    "The basic element in `numpy` is the `array` object. A numpy array is similar to a Python list, with the addition of several useful methods and properties specific to linear algebra"
   ]
  },
  {
   "cell_type": "code",
   "execution_count": 7,
   "metadata": {},
   "outputs": [
    {
     "name": "stdout",
     "output_type": "stream",
     "text": [
      "[1 2 3 4]\n",
      "[1, 2, 3, 4]\n",
      "[1 2 3 4]\n",
      "<class 'numpy.ndarray'>\n",
      "<class 'list'>\n",
      "<class 'numpy.ndarray'>\n"
     ]
    }
   ],
   "source": [
    "x = np.array([1,2,3,4]) # A specific component of a module is called via dot subscripting\n",
    "\n",
    "# --- This is equivalent to build a numpy array starting from a pre-existing python list\n",
    "y = [1,2,3,4]\n",
    "z = np.array(y)\n",
    "\n",
    "print(x) # Numpy arrays are displayed in a more Matlab-like form when shown with the print function\n",
    "print(y)\n",
    "print(z)\n",
    "print(type(x))\n",
    "print(type(y))\n",
    "print(type(z))"
   ]
  },
  {
   "cell_type": "markdown",
   "metadata": {},
   "source": [
    "Numpy arrays have a more compact syntax for element-wise operations"
   ]
  },
  {
   "cell_type": "code",
   "execution_count": 39,
   "metadata": {},
   "outputs": [
    {
     "name": "stdout",
     "output_type": "stream",
     "text": [
      "[9, 16]\n",
      " \n",
      "[16 36]\n"
     ]
    }
   ],
   "source": [
    "# Element-wise squared value for a python list\n",
    "Y = [k**2 for k in y] \n",
    "# This structure above is called a \"list comprehension\" and will be explained more in detail in the next lessons\n",
    "print(Y)\n",
    "print(' ')\n",
    "\n",
    "# Element-wise squared value for a numpy array\n",
    "Z = z**2\n",
    "print(Z)"
   ]
  },
  {
   "cell_type": "markdown",
   "metadata": {},
   "source": [
    "<span style='color: red;'>**Attention**</span>: the `+` operator acts differently on python lists and numpy arrays."
   ]
  },
  {
   "cell_type": "code",
   "execution_count": 40,
   "metadata": {},
   "outputs": [
    {
     "name": "stdout",
     "output_type": "stream",
     "text": [
      "[1, 2, 3, 4]\n",
      " \n",
      "[4 6]\n"
     ]
    }
   ],
   "source": [
    "# The + operator concatenates python lists ...\n",
    "x = [1, 2]\n",
    "y = [3, 4]\n",
    "z = x + y\n",
    "print(z)\n",
    "print(' ')\n",
    "\n",
    "# ... and sums the elements of numpy arrays\n",
    "x = np.array(x)\n",
    "y = np.array(y)\n",
    "z = x + y\n",
    "print(z)"
   ]
  },
  {
   "cell_type": "markdown",
   "metadata": {},
   "source": [
    "## Matrices"
   ]
  },
  {
   "cell_type": "markdown",
   "metadata": {},
   "source": [
    "While there is a `matrix` class in numpy, the best practice to define matrices and tensors is using multidimensional numpy arrays."
   ]
  },
  {
   "cell_type": "code",
   "execution_count": 41,
   "metadata": {},
   "outputs": [
    {
     "name": "stdout",
     "output_type": "stream",
     "text": [
      "[[1 2]\n",
      " [3 4]]\n"
     ]
    }
   ],
   "source": [
    "M = np.array([[1, 2], [3,4]])\n",
    "print(M)"
   ]
  },
  {
   "cell_type": "markdown",
   "metadata": {},
   "source": [
    " The shape of a matrix can be identified using the `shape` property of the matrix"
   ]
  },
  {
   "cell_type": "code",
   "execution_count": 44,
   "metadata": {},
   "outputs": [
    {
     "name": "stdout",
     "output_type": "stream",
     "text": [
      "(2, 2)\n",
      "<class 'tuple'>\n",
      " \n",
      "The matrix has 2 rows and 2 columns.\n"
     ]
    }
   ],
   "source": [
    "print(M.shape)\n",
    "print(type(M.shape))\n",
    "\n",
    "N_rows = M.shape[0]\n",
    "N_columns = M.shape[1]\n",
    "print(' ')\n",
    "print('The matrix has ' + str(N_rows) + ' rows and ' + str(N_columns) + ' columns.')"
   ]
  },
  {
   "cell_type": "markdown",
   "metadata": {},
   "source": [
    "Matrix multiplication is performed with the `@` operator, while the standard product operator performs element-wise multiplication"
   ]
  },
  {
   "cell_type": "code",
   "execution_count": 21,
   "metadata": {},
   "outputs": [
    {
     "name": "stdout",
     "output_type": "stream",
     "text": [
      "[[1 2]\n",
      " [3 4]]\n",
      " \n",
      "[[1 0]\n",
      " [0 4]]\n",
      " \n",
      "[[2 4]\n",
      " [6 8]]\n"
     ]
    }
   ],
   "source": [
    "N = np.array([[1, 0], [0, 1]])\n",
    "\n",
    "P = M @ N\n",
    "print(P)\n",
    "print(' ')\n",
    "\n",
    "P_std = M * N\n",
    "print(P_std)\n",
    "print(' ')\n",
    "\n",
    "N_double = 2*N\n",
    "P_double = M @ N_double\n",
    "print(P_double)"
   ]
  },
  {
   "cell_type": "markdown",
   "metadata": {},
   "source": [
    "A number of different functions generating particular matrices are available in numpy"
   ]
  },
  {
   "cell_type": "code",
   "execution_count": 33,
   "metadata": {},
   "outputs": [
    {
     "name": "stdout",
     "output_type": "stream",
     "text": [
      "Zero matrix:\n",
      "[[0. 0.]\n",
      " [0. 0.]\n",
      " [0. 0.]]\n",
      " \n",
      "Ones matrix:\n",
      "[[1. 1. 1.]\n",
      " [1. 1. 1.]]\n",
      " \n",
      "Identity matrix:\n",
      "[[1. 0. 0.]\n",
      " [0. 1. 0.]\n",
      " [0. 0. 1.]]\n",
      " \n",
      "Random-valued arrays:\n",
      "[0.88431175 0.95533992 0.5346564 ]\n",
      "[1.06492947 0.00962764 0.90084238 0.71176522]\n",
      " \n",
      "Linear range:\n",
      "[0.   0.25 0.5  0.75 1.  ]\n"
     ]
    }
   ],
   "source": [
    "# Zeros and ones matrices\n",
    "print('Zero matrix:')\n",
    "X = np.zeros([3,2]) # The functions typically take as input the dimensions of the matrix we want to generate\n",
    "print(X)\n",
    "print(' ')\n",
    "print('Ones matrix:')\n",
    "X = np.ones([2,3])\n",
    "print(X)\n",
    "print(' ')\n",
    "\n",
    "# Identity matrix\n",
    "print('Identity matrix:')\n",
    "X = np.eye(3)\n",
    "print(X)\n",
    "print(' ')\n",
    "\n",
    "# Random array\n",
    "print('Random-valued arrays:')\n",
    "X = np.random.rand(3) # Random uniform in the [0,1) range\n",
    "print(X)\n",
    "X = np.random.randn(4) # From a normal standard distribution\n",
    "print(X)\n",
    "print(' ')\n",
    "\n",
    "# Linear range\n",
    "print('Linear range:')\n",
    "X = np.linspace(0,1,5) # The syntax is (lower bound, upper bound, number of elements)\n",
    "print(X)"
   ]
  },
  {
   "cell_type": "markdown",
   "metadata": {},
   "source": [
    "# Matplotlib"
   ]
  },
  {
   "cell_type": "markdown",
   "metadata": {},
   "source": [
    "## Plotting using pyplot"
   ]
  },
  {
   "cell_type": "markdown",
   "metadata": {},
   "source": [
    "Like in Matlab, figures are initialized with the `figure` method in the `pyplot` module. To show a figure, the method `show` must be called (this is not strictly needed when working with Jupyter Notebooks, but it is always needed if multiple plots are to be included in the same figure, or if the figure is generated from a pure Python script)."
   ]
  },
  {
   "cell_type": "code",
   "execution_count": 34,
   "metadata": {},
   "outputs": [
    {
     "data": {
      "image/png": "[encoded data removed]",
      "text/plain": [
       "<Figure size 432x288 with 1 Axes>"
      ]
     },
     "metadata": {
      "needs_background": "light"
     },
     "output_type": "display_data"
    }
   ],
   "source": [
    "plt.figure()\n",
    "T = np.linspace(0,1,1000)\n",
    "X = np.sin(2 * np.pi * T)\n",
    "plt.plot(T,X)\n",
    "plt.show()"
   ]
  },
  {
   "cell_type": "markdown",
   "metadata": {},
   "source": [
    "Multiple plots can be included in the same plot without explicitely stating the hold state. The color of the plot can be changed via the (optional) `color` argument of the `plot` function."
   ]
  },
  {
   "cell_type": "code",
   "execution_count": 36,
   "metadata": {},
   "outputs": [
    {
     "data": {
      "image/png": "[encoded data removed]",
      "text/plain": [
       "<Figure size 432x288 with 1 Axes>"
      ]
     },
     "metadata": {
      "needs_background": "light"
     },
     "output_type": "display_data"
    }
   ],
   "source": [
    "plt.figure()\n",
    "T = np.linspace(0,1,1000)\n",
    "X = np.sin(2 * np.pi * T)\n",
    "Y = np.cos(2 * np.pi * T)\n",
    "plt.plot(T, X)\n",
    "plt.plot(T, Y, color='red')\n",
    "plt.show()"
   ]
  },
  {
   "cell_type": "markdown",
   "metadata": {},
   "source": [
    "Different plot types are included in the `pyplot` module (all well described in the documentation)"
   ]
  },
  {
   "cell_type": "code",
   "execution_count": 38,
   "metadata": {},
   "outputs": [
    {
     "data": {
      "image/png": "[encoded data removed]",
      "text/plain": [
       "<Figure size 432x288 with 1 Axes>"
      ]
     },
     "metadata": {
      "needs_background": "light"
     },
     "output_type": "display_data"
    }
   ],
   "source": [
    "X = np.random.randn(1000)\n",
    "plt.figure()\n",
    "plt.hist(X) # Draws the histogram of the values\n",
    "plt.show()"
   ]
  },
  {
   "cell_type": "markdown",
   "id": "confused-williams",
   "metadata": {},
   "source": [
    "# Pandas"
   ]
  },
  {
   "cell_type": "markdown",
   "id": "progressive-knock",
   "metadata": {},
   "source": [
    "The full documentation for Pandas can be found at https://pandas.pydata.org/pandas-docs/stable/."
   ]
  },
  {
   "cell_type": "markdown",
   "id": "juvenile-warrant",
   "metadata": {},
   "source": [
    "## Import pandas"
   ]
  },
  {
   "cell_type": "code",
   "execution_count": null,
   "id": "muslim-ensemble",
   "metadata": {},
   "outputs": [],
   "source": [
    "import pandas as pd # pd is the standard alias for the Pandas library"
   ]
  },
  {
   "cell_type": "markdown",
   "id": "statutory-seventh",
   "metadata": {},
   "source": [
    "## Generate a dataset containing dummy data"
   ]
  },
  {
   "cell_type": "code",
   "execution_count": null,
   "id": "robust-equilibrium",
   "metadata": {},
   "outputs": [
    {
     "name": "stdout",
     "output_type": "stream",
     "text": [
      "['Alice', 'Bob', 'John', 'Mary']\n",
      "[27, 30, 29, 32]\n"
     ]
    }
   ],
   "source": [
    "names = ['Alice','Bob','John','Mary']\n",
    "age = [27, 30, 29, 32]\n",
    "print(names)\n",
    "print(age)"
   ]
  },
  {
   "cell_type": "markdown",
   "id": "academic-spyware",
   "metadata": {},
   "source": [
    "Use the `zip` function to merge two lists and convert the result into a list"
   ]
  },
  {
   "cell_type": "code",
   "execution_count": null,
   "id": "suspended-voltage",
   "metadata": {},
   "outputs": [
    {
     "name": "stdout",
     "output_type": "stream",
     "text": [
      "[('Alice', 27), ('Bob', 30), ('John', 29), ('Mary', 32)]\n"
     ]
    }
   ],
   "source": [
    "data_people = list(zip(names,age))\n",
    "print(data_people)"
   ]
  },
  {
   "cell_type": "markdown",
   "id": "chief-warning",
   "metadata": {},
   "source": [
    "## Dataframes"
   ]
  },
  {
   "cell_type": "markdown",
   "id": "manufactured-salad",
   "metadata": {},
   "source": [
    "In Pandas, the key data structure is called a DataFrame, and containes all the useful attributes and methods for data manipulation and data analysis. A DataFrame can be automatically generated from a Python list, using the command `pd.DataFrame`"
   ]
  },
  {
   "cell_type": "code",
   "execution_count": null,
   "id": "spectacular-advance",
   "metadata": {},
   "outputs": [],
   "source": [
    "df = pd.DataFrame(data=data_people, columns=['Name','Age']) # It is possible to assign column names in a DataFrame"
   ]
  },
  {
   "cell_type": "markdown",
   "id": "distinguished-howard",
   "metadata": {},
   "source": [
    "To get an overview of the content of a DataFrame, it is possible to use the `head` method of the DataFrame itself."
   ]
  },
  {
   "cell_type": "code",
   "execution_count": null,
   "id": "numerous-lounge",
   "metadata": {},
   "outputs": [
    {
     "name": "stdout",
     "output_type": "stream",
     "text": [
      "    Name  Age\n",
      "0  Alice   27\n",
      "1    Bob   30\n",
      "2   John   29\n",
      "3   Mary   32\n"
     ]
    }
   ],
   "source": [
    "print(df.head())"
   ]
  },
  {
   "cell_type": "markdown",
   "id": "developmental-craft",
   "metadata": {},
   "source": [
    "Jupyter notebook automatically recognizes and format the data when a dataframe is printed, without the explicit use of the `print` function"
   ]
  },
  {
   "cell_type": "code",
   "execution_count": null,
   "id": "greenhouse-brunei",
   "metadata": {},
   "outputs": [
    {
     "data": {
      "text/html": [
       "<div>\n",
       "<style scoped>\n",
       "    .dataframe tbody tr th:only-of-type {\n",
       "        vertical-align: middle;\n",
       "    }\n",
       "\n",
       "    .dataframe tbody tr th {\n",
       "        vertical-align: top;\n",
       "    }\n",
       "\n",
       "    .dataframe thead th {\n",
       "        text-align: right;\n",
       "    }\n",
       "</style>\n",
       "<table border=\"1\" class=\"dataframe\">\n",
       "  <thead>\n",
       "    <tr style=\"text-align: right;\">\n",
       "      <th></th>\n",
       "      <th>Name</th>\n",
       "      <th>Age</th>\n",
       "    </tr>\n",
       "  </thead>\n",
       "  <tbody>\n",
       "    <tr>\n",
       "      <th>0</th>\n",
       "      <td>Alice</td>\n",
       "      <td>27</td>\n",
       "    </tr>\n",
       "    <tr>\n",
       "      <th>1</th>\n",
       "      <td>Bob</td>\n",
       "      <td>30</td>\n",
       "    </tr>\n",
       "    <tr>\n",
       "      <th>2</th>\n",
       "      <td>John</td>\n",
       "      <td>29</td>\n",
       "    </tr>\n",
       "    <tr>\n",
       "      <th>3</th>\n",
       "      <td>Mary</td>\n",
       "      <td>32</td>\n",
       "    </tr>\n",
       "  </tbody>\n",
       "</table>\n",
       "</div>"
      ],
      "text/plain": [
       "    Name  Age\n",
       "0  Alice   27\n",
       "1    Bob   30\n",
       "2   John   29\n",
       "3   Mary   32"
      ]
     },
     "metadata": {},
     "output_type": "display_data"
    }
   ],
   "source": [
    "df.head()"
   ]
  },
  {
   "cell_type": "markdown",
   "id": "quality-bundle",
   "metadata": {},
   "source": [
    "It is possible to check the type of the content of a DataFrame by using the `dtypes` attribute of the object"
   ]
  },
  {
   "cell_type": "code",
   "execution_count": null,
   "id": "warming-stretch",
   "metadata": {},
   "outputs": [
    {
     "name": "stdout",
     "output_type": "stream",
     "text": [
      "Name    object\n",
      "Age      int64\n",
      "dtype: object\n"
     ]
    }
   ],
   "source": [
    "print(df.dtypes)"
   ]
  },
  {
   "cell_type": "markdown",
   "id": "occupied-employee",
   "metadata": {},
   "source": [
    "## Accessing elements of a DataFrame"
   ]
  },
  {
   "cell_type": "markdown",
   "id": "dramatic-strain",
   "metadata": {},
   "source": [
    "To extract a column, it is possible to use directly the column name, as a string"
   ]
  },
  {
   "cell_type": "code",
   "execution_count": null,
   "id": "adjustable-vision",
   "metadata": {},
   "outputs": [
    {
     "name": "stdout",
     "output_type": "stream",
     "text": [
      "0     0\n",
      "1    30\n",
      "2    29\n",
      "3    32\n",
      "Name: Age, dtype: int64\n"
     ]
    }
   ],
   "source": [
    "age_column = df['Age']\n",
    "print(age_column)"
   ]
  },
  {
   "cell_type": "markdown",
   "id": "certified-responsibility",
   "metadata": {},
   "source": [
    "It is possible to index with numerical indexes, by using the `iloc` method"
   ]
  },
  {
   "cell_type": "code",
   "execution_count": null,
   "id": "entitled-publicity",
   "metadata": {},
   "outputs": [
    {
     "name": "stdout",
     "output_type": "stream",
     "text": [
      "    Name  Age\n",
      "0  Alice    0\n",
      "1    Bob   30\n",
      "2   John   29\n",
      "3   Mary   32\n"
     ]
    }
   ],
   "source": [
    "age_column_iloc = df.iloc[:,1]\n",
    "print(df)"
   ]
  },
  {
   "cell_type": "markdown",
   "id": "brown-praise",
   "metadata": {},
   "source": [
    "<span style='color:red; font-weight:bold;'>Warning</span>: if we change the value of `age_column` or `age_column_iloc`, the value in the original dataframe is also changed. Notebooks typically return a warning, but when dealing with large codes this may result in a logical error and in wrong results"
   ]
  },
  {
   "cell_type": "code",
   "execution_count": null,
   "id": "engaged-remove",
   "metadata": {
    "scrolled": true
   },
   "outputs": [
    {
     "name": "stdout",
     "output_type": "stream",
     "text": [
      "    Name  Age\n",
      "0  Alice    1\n",
      "1    Bob   30\n",
      "2   John   29\n",
      "3   Mary   32\n"
     ]
    },
    {
     "name": "stderr",
     "output_type": "stream",
     "text": [
      "<ipython-input-30-2689c4f87e70>:1: SettingWithCopyWarning: \n",
      "A value is trying to be set on a copy of a slice from a DataFrame\n",
      "\n",
      "See the caveats in the documentation: https://pandas.pydata.org/pandas-docs/stable/user_guide/indexing.html#returning-a-view-versus-a-copy\n",
      "  age_column[0] = 1\n"
     ]
    }
   ],
   "source": [
    "age_column[0] = 1\n",
    "df.head"
   ]
  },
  {
   "cell_type": "markdown",
   "id": "precise-roman",
   "metadata": {},
   "source": [
    "In order to avoid this, a *deep copy* of the original data must be built by using the `copy` method"
   ]
  },
  {
   "cell_type": "code",
   "execution_count": null,
   "id": "bulgarian-policy",
   "metadata": {},
   "outputs": [
    {
     "name": "stdout",
     "output_type": "stream",
     "text": [
      "0     1\n",
      "1    30\n",
      "2    29\n",
      "3    32\n",
      "Name: Age, dtype: int64\n"
     ]
    },
    {
     "data": {
      "text/html": [
       "<div>\n",
       "<style scoped>\n",
       "    .dataframe tbody tr th:only-of-type {\n",
       "        vertical-align: middle;\n",
       "    }\n",
       "\n",
       "    .dataframe tbody tr th {\n",
       "        vertical-align: top;\n",
       "    }\n",
       "\n",
       "    .dataframe thead th {\n",
       "        text-align: right;\n",
       "    }\n",
       "</style>\n",
       "<table border=\"1\" class=\"dataframe\">\n",
       "  <thead>\n",
       "    <tr style=\"text-align: right;\">\n",
       "      <th></th>\n",
       "      <th>Name</th>\n",
       "      <th>Age</th>\n",
       "    </tr>\n",
       "  </thead>\n",
       "  <tbody>\n",
       "    <tr>\n",
       "      <th>0</th>\n",
       "      <td>Alice</td>\n",
       "      <td>27</td>\n",
       "    </tr>\n",
       "    <tr>\n",
       "      <th>1</th>\n",
       "      <td>Bob</td>\n",
       "      <td>30</td>\n",
       "    </tr>\n",
       "    <tr>\n",
       "      <th>2</th>\n",
       "      <td>John</td>\n",
       "      <td>29</td>\n",
       "    </tr>\n",
       "    <tr>\n",
       "      <th>3</th>\n",
       "      <td>Mary</td>\n",
       "      <td>32</td>\n",
       "    </tr>\n",
       "  </tbody>\n",
       "</table>\n",
       "</div>"
      ],
      "text/plain": [
       "    Name  Age\n",
       "0  Alice   27\n",
       "1    Bob   30\n",
       "2   John   29\n",
       "3   Mary   32"
      ]
     },
     "metadata": {},
     "output_type": "display_data"
    }
   ],
   "source": [
    "df = pd.DataFrame(data=data_people, columns=['Name','Age'])\n",
    "age_column_copy = df['Age'].copy(deep=True)\n",
    "age_column_copy[0] = 1\n",
    "print(age_column_copy)\n",
    "df.head()"
   ]
  },
  {
   "cell_type": "markdown",
   "id": "soviet-liquid",
   "metadata": {},
   "source": [
    "## Manipulation of a DataFrame"
   ]
  },
  {
   "cell_type": "markdown",
   "id": "flush-beaver",
   "metadata": {},
   "source": [
    "Pandas provides useful methods for organizing data in the DataFrame, such as the `sort` method"
   ]
  },
  {
   "cell_type": "code",
   "execution_count": null,
   "id": "requested-surge",
   "metadata": {},
   "outputs": [
    {
     "data": {
      "text/html": [
       "<div>\n",
       "<style scoped>\n",
       "    .dataframe tbody tr th:only-of-type {\n",
       "        vertical-align: middle;\n",
       "    }\n",
       "\n",
       "    .dataframe tbody tr th {\n",
       "        vertical-align: top;\n",
       "    }\n",
       "\n",
       "    .dataframe thead th {\n",
       "        text-align: right;\n",
       "    }\n",
       "</style>\n",
       "<table border=\"1\" class=\"dataframe\">\n",
       "  <thead>\n",
       "    <tr style=\"text-align: right;\">\n",
       "      <th></th>\n",
       "      <th>Name</th>\n",
       "      <th>Age</th>\n",
       "    </tr>\n",
       "  </thead>\n",
       "  <tbody>\n",
       "    <tr>\n",
       "      <th>3</th>\n",
       "      <td>Mary</td>\n",
       "      <td>32</td>\n",
       "    </tr>\n",
       "    <tr>\n",
       "      <th>1</th>\n",
       "      <td>Bob</td>\n",
       "      <td>30</td>\n",
       "    </tr>\n",
       "    <tr>\n",
       "      <th>2</th>\n",
       "      <td>John</td>\n",
       "      <td>29</td>\n",
       "    </tr>\n",
       "    <tr>\n",
       "      <th>0</th>\n",
       "      <td>Alice</td>\n",
       "      <td>27</td>\n",
       "    </tr>\n",
       "  </tbody>\n",
       "</table>\n",
       "</div>"
      ],
      "text/plain": [
       "    Name  Age\n",
       "3   Mary   32\n",
       "1    Bob   30\n",
       "2   John   29\n",
       "0  Alice   27"
      ]
     },
     "metadata": {},
     "output_type": "display_data"
    }
   ],
   "source": [
    "df_sorted = df.sort_values(['Age'], ascending=False)\n",
    "df_sorted.head()"
   ]
  },
  {
   "cell_type": "markdown",
   "id": "approximate-finance",
   "metadata": {},
   "source": [
    "Any operation on a DataFrame returns a copy of the original data. If the original DataFrame has to be update, it is possible to use the `inplace` argument in the method call"
   ]
  },
  {
   "cell_type": "code",
   "execution_count": null,
   "id": "complimentary-refrigerator",
   "metadata": {},
   "outputs": [
    {
     "data": {
      "text/html": [
       "<div>\n",
       "<style scoped>\n",
       "    .dataframe tbody tr th:only-of-type {\n",
       "        vertical-align: middle;\n",
       "    }\n",
       "\n",
       "    .dataframe tbody tr th {\n",
       "        vertical-align: top;\n",
       "    }\n",
       "\n",
       "    .dataframe thead th {\n",
       "        text-align: right;\n",
       "    }\n",
       "</style>\n",
       "<table border=\"1\" class=\"dataframe\">\n",
       "  <thead>\n",
       "    <tr style=\"text-align: right;\">\n",
       "      <th></th>\n",
       "      <th>Name</th>\n",
       "      <th>Age</th>\n",
       "    </tr>\n",
       "  </thead>\n",
       "  <tbody>\n",
       "    <tr>\n",
       "      <th>0</th>\n",
       "      <td>Alice</td>\n",
       "      <td>27</td>\n",
       "    </tr>\n",
       "    <tr>\n",
       "      <th>2</th>\n",
       "      <td>John</td>\n",
       "      <td>29</td>\n",
       "    </tr>\n",
       "    <tr>\n",
       "      <th>1</th>\n",
       "      <td>Bob</td>\n",
       "      <td>30</td>\n",
       "    </tr>\n",
       "    <tr>\n",
       "      <th>3</th>\n",
       "      <td>Mary</td>\n",
       "      <td>32</td>\n",
       "    </tr>\n",
       "  </tbody>\n",
       "</table>\n",
       "</div>"
      ],
      "text/plain": [
       "    Name  Age\n",
       "0  Alice   27\n",
       "2   John   29\n",
       "1    Bob   30\n",
       "3   Mary   32"
      ]
     },
     "metadata": {},
     "output_type": "display_data"
    }
   ],
   "source": [
    "df_sorted.sort_values(['Age'], ascending=True, inplace=True) # Note that this function now does not return any DataFrame\n",
    "df_sorted.head()"
   ]
  },
  {
   "cell_type": "markdown",
   "id": "overall-trauma",
   "metadata": {},
   "source": [
    "## Load an external dataset"
   ]
  },
  {
   "cell_type": "markdown",
   "id": "surprising-maldives",
   "metadata": {},
   "source": [
    "In Pandas it is possible to read an external .csv file, both from an online resource and from a local file, using the `read_csv` function"
   ]
  },
  {
   "cell_type": "code",
   "execution_count": null,
   "id": "clear-organization",
   "metadata": {},
   "outputs": [
    {
     "data": {
      "text/html": [
       "<div>\n",
       "<style scoped>\n",
       "    .dataframe tbody tr th:only-of-type {\n",
       "        vertical-align: middle;\n",
       "    }\n",
       "\n",
       "    .dataframe tbody tr th {\n",
       "        vertical-align: top;\n",
       "    }\n",
       "\n",
       "    .dataframe thead th {\n",
       "        text-align: right;\n",
       "    }\n",
       "</style>\n",
       "<table border=\"1\" class=\"dataframe\">\n",
       "  <thead>\n",
       "    <tr style=\"text-align: right;\">\n",
       "      <th></th>\n",
       "      <th>sepal_length</th>\n",
       "      <th>sepal_width</th>\n",
       "      <th>petal_length</th>\n",
       "      <th>petal_width</th>\n",
       "      <th>species</th>\n",
       "    </tr>\n",
       "  </thead>\n",
       "  <tbody>\n",
       "    <tr>\n",
       "      <th>0</th>\n",
       "      <td>5.1</td>\n",
       "      <td>3.5</td>\n",
       "      <td>1.4</td>\n",
       "      <td>0.2</td>\n",
       "      <td>setosa</td>\n",
       "    </tr>\n",
       "    <tr>\n",
       "      <th>1</th>\n",
       "      <td>4.9</td>\n",
       "      <td>3.0</td>\n",
       "      <td>1.4</td>\n",
       "      <td>0.2</td>\n",
       "      <td>setosa</td>\n",
       "    </tr>\n",
       "    <tr>\n",
       "      <th>2</th>\n",
       "      <td>4.7</td>\n",
       "      <td>3.2</td>\n",
       "      <td>1.3</td>\n",
       "      <td>0.2</td>\n",
       "      <td>setosa</td>\n",
       "    </tr>\n",
       "    <tr>\n",
       "      <th>3</th>\n",
       "      <td>4.6</td>\n",
       "      <td>3.1</td>\n",
       "      <td>1.5</td>\n",
       "      <td>0.2</td>\n",
       "      <td>setosa</td>\n",
       "    </tr>\n",
       "    <tr>\n",
       "      <th>4</th>\n",
       "      <td>5.0</td>\n",
       "      <td>3.6</td>\n",
       "      <td>1.4</td>\n",
       "      <td>0.2</td>\n",
       "      <td>setosa</td>\n",
       "    </tr>\n",
       "  </tbody>\n",
       "</table>\n",
       "</div>"
      ],
      "text/plain": [
       "   sepal_length  sepal_width  petal_length  petal_width species\n",
       "0           5.1          3.5           1.4          0.2  setosa\n",
       "1           4.9          3.0           1.4          0.2  setosa\n",
       "2           4.7          3.2           1.3          0.2  setosa\n",
       "3           4.6          3.1           1.5          0.2  setosa\n",
       "4           5.0          3.6           1.4          0.2  setosa"
      ]
     },
     "metadata": {},
     "output_type": "display_data"
    }
   ],
   "source": [
    "iris = pd.read_csv('https://raw.githubusercontent.com/mwaskom/seaborn-data/master/iris.csv')\n",
    "iris.head()"
   ]
  },
  {
   "cell_type": "markdown",
   "id": "prerequisite-lobby",
   "metadata": {},
   "source": [
    "When dealing with a large dataset, the `describe` method is useful to have a compact description of the data structure for the numerical columns"
   ]
  },
  {
   "cell_type": "code",
   "execution_count": null,
   "id": "sticky-internship",
   "metadata": {},
   "outputs": [
    {
     "data": {
      "text/html": [
       "<div>\n",
       "<style scoped>\n",
       "    .dataframe tbody tr th:only-of-type {\n",
       "        vertical-align: middle;\n",
       "    }\n",
       "\n",
       "    .dataframe tbody tr th {\n",
       "        vertical-align: top;\n",
       "    }\n",
       "\n",
       "    .dataframe thead th {\n",
       "        text-align: right;\n",
       "    }\n",
       "</style>\n",
       "<table border=\"1\" class=\"dataframe\">\n",
       "  <thead>\n",
       "    <tr style=\"text-align: right;\">\n",
       "      <th></th>\n",
       "      <th>sepal_length</th>\n",
       "      <th>sepal_width</th>\n",
       "      <th>petal_length</th>\n",
       "      <th>petal_width</th>\n",
       "    </tr>\n",
       "  </thead>\n",
       "  <tbody>\n",
       "    <tr>\n",
       "      <th>count</th>\n",
       "      <td>150.000000</td>\n",
       "      <td>150.000000</td>\n",
       "      <td>150.000000</td>\n",
       "      <td>150.000000</td>\n",
       "    </tr>\n",
       "    <tr>\n",
       "      <th>mean</th>\n",
       "      <td>5.843333</td>\n",
       "      <td>3.057333</td>\n",
       "      <td>3.758000</td>\n",
       "      <td>1.199333</td>\n",
       "    </tr>\n",
       "    <tr>\n",
       "      <th>std</th>\n",
       "      <td>0.828066</td>\n",
       "      <td>0.435866</td>\n",
       "      <td>1.765298</td>\n",
       "      <td>0.762238</td>\n",
       "    </tr>\n",
       "    <tr>\n",
       "      <th>min</th>\n",
       "      <td>4.300000</td>\n",
       "      <td>2.000000</td>\n",
       "      <td>1.000000</td>\n",
       "      <td>0.100000</td>\n",
       "    </tr>\n",
       "    <tr>\n",
       "      <th>25%</th>\n",
       "      <td>5.100000</td>\n",
       "      <td>2.800000</td>\n",
       "      <td>1.600000</td>\n",
       "      <td>0.300000</td>\n",
       "    </tr>\n",
       "    <tr>\n",
       "      <th>50%</th>\n",
       "      <td>5.800000</td>\n",
       "      <td>3.000000</td>\n",
       "      <td>4.350000</td>\n",
       "      <td>1.300000</td>\n",
       "    </tr>\n",
       "    <tr>\n",
       "      <th>75%</th>\n",
       "      <td>6.400000</td>\n",
       "      <td>3.300000</td>\n",
       "      <td>5.100000</td>\n",
       "      <td>1.800000</td>\n",
       "    </tr>\n",
       "    <tr>\n",
       "      <th>max</th>\n",
       "      <td>7.900000</td>\n",
       "      <td>4.400000</td>\n",
       "      <td>6.900000</td>\n",
       "      <td>2.500000</td>\n",
       "    </tr>\n",
       "  </tbody>\n",
       "</table>\n",
       "</div>"
      ],
      "text/plain": [
       "       sepal_length  sepal_width  petal_length  petal_width\n",
       "count    150.000000   150.000000    150.000000   150.000000\n",
       "mean       5.843333     3.057333      3.758000     1.199333\n",
       "std        0.828066     0.435866      1.765298     0.762238\n",
       "min        4.300000     2.000000      1.000000     0.100000\n",
       "25%        5.100000     2.800000      1.600000     0.300000\n",
       "50%        5.800000     3.000000      4.350000     1.300000\n",
       "75%        6.400000     3.300000      5.100000     1.800000\n",
       "max        7.900000     4.400000      6.900000     2.500000"
      ]
     },
     "metadata": {},
     "output_type": "display_data"
    }
   ],
   "source": [
    "iris.describe()"
   ]
  },
  {
   "cell_type": "markdown",
   "id": "apart-organ",
   "metadata": {},
   "source": [
    "For a non-numerical column, it is possible to list all the possible entries (without repetitions) with the `unique` method applied on the column itself"
   ]
  },
  {
   "cell_type": "code",
   "execution_count": null,
   "id": "requested-concern",
   "metadata": {},
   "outputs": [
    {
     "name": "stdout",
     "output_type": "stream",
     "text": [
      "['setosa', 'versicolor', 'virginica']\n"
     ]
    }
   ],
   "source": [
    "species_list = list(iris['species'].unique())\n",
    "print(species_list)"
   ]
  }
 ],
 "metadata": {
  "kernelspec": {
   "display_name": "Python 3",
   "language": "python",
   "name": "python3"
  },
  "language_info": {
   "codemirror_mode": {
    "name": "ipython",
    "version": 3
   },
   "file_extension": ".py",
   "mimetype": "text/x-python",
   "name": "python",
   "nbconvert_exporter": "python",
   "pygments_lexer": "ipython3",
   "version": "3.9.7"
  }
 },
 "nbformat": 4,
 "nbformat_minor": 4
}
