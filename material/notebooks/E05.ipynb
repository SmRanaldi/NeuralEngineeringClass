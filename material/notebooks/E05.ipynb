{
  "cells": [
    {
      "cell_type": "markdown",
      "metadata": {
        "id": "cbtkbdjob6pI"
      },
      "source": [
        "# Exercise 5 - Feature extraction"
      ]
    },
    {
      "cell_type": "markdown",
      "metadata": {
        "id": "ezp7nEqTb6pK"
      },
      "source": [
        "## Load data"
      ]
    },
    {
      "cell_type": "markdown",
      "metadata": {
        "id": "vO4g-PbHb6pL"
      },
      "source": [
        "Load the file `E05_signal.csv` and define the strategy for a threshold-based spike detection"
      ]
    },
    {
      "cell_type": "code",
      "execution_count": null,
      "metadata": {
        "id": "6bO0nAOLb6pM"
      },
      "outputs": [],
      "source": [
        ""
      ]
    },
    {
      "cell_type": "markdown",
      "metadata": {
        "id": "bRBks6lMb6pN"
      },
      "source": [
        "## Detect the spikes"
      ]
    },
    {
      "cell_type": "markdown",
      "metadata": {
        "id": "87ojrvnPb6pN"
      },
      "source": [
        "Detect the spikes with a threshold-based approach, visualize the results and have a first guess of the number of firing neurons"
      ]
    },
    {
      "cell_type": "code",
      "execution_count": null,
      "metadata": {
        "id": "RSq01Rqcb6pO"
      },
      "outputs": [],
      "source": [
        ""
      ]
    },
    {
      "cell_type": "markdown",
      "metadata": {
        "id": "WPxoJGC8b6pO"
      },
      "source": [
        "## Define feature extraction functions"
      ]
    },
    {
      "cell_type": "markdown",
      "metadata": {
        "id": "1ffI2yQsb6pP"
      },
      "source": [
        "### Define a function for each of the features that you want to extract"
      ]
    },
    {
      "cell_type": "code",
      "execution_count": null,
      "metadata": {
        "id": "6xFFfE2Bb6pQ"
      },
      "outputs": [],
      "source": [
        ""
      ]
    },
    {
      "cell_type": "markdown",
      "source": [
        "# Determine the number of neurons"
      ],
      "metadata": {
        "id": "NR1T1OdMcml4"
      }
    },
    {
      "cell_type": "markdown",
      "source": [
        "## Plot different combination of features to determine the number of firing neurons"
      ],
      "metadata": {
        "id": "6uwAnNt6cpw2"
      }
    },
    {
      "cell_type": "code",
      "source": [
        ""
      ],
      "metadata": {
        "id": "Ia-Qn2jZcuLX"
      },
      "execution_count": null,
      "outputs": []
    }
  ],
  "metadata": {
    "interpreter": {
      "hash": "b3ba2566441a7c06988d0923437866b63cedc61552a5af99d1f4fb67d367b25f"
    },
    "kernelspec": {
      "display_name": "Python 3.9.7 ('base')",
      "language": "python",
      "name": "python3"
    },
    "language_info": {
      "name": "python",
      "version": "3.9.7"
    },
    "orig_nbformat": 4,
    "colab": {
      "name": "E05.ipynb",
      "provenance": []
    }
  },
  "nbformat": 4,
  "nbformat_minor": 0
}