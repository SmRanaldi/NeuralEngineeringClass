{
  "nbformat": 4,
  "nbformat_minor": 0,
  "metadata": {
    "colab": {
      "name": "E03.ipynb",
      "provenance": []
    },
    "kernelspec": {
      "name": "python3",
      "display_name": "Python 3"
    },
    "language_info": {
      "name": "python"
    }
  },
  "cells": [
    {
      "cell_type": "markdown",
      "source": [
        "# E03 - Spike detection"
      ],
      "metadata": {
        "id": "Ax9CjSgXgHSI"
      }
    },
    {
      "cell_type": "markdown",
      "source": [
        "Note: on the website you will find two different signals: `E03_signal1.csv` and `E03_signal2.csv`. You will need to solve this notebook for both signals, unless it is specified to do differently"
      ],
      "metadata": {
        "id": "-s4xJ3QYgM0E"
      }
    },
    {
      "cell_type": "markdown",
      "source": [
        "## Load the data"
      ],
      "metadata": {
        "id": "9lpaPjnggmRl"
      }
    },
    {
      "cell_type": "code",
      "source": [
        ""
      ],
      "metadata": {
        "id": "ZpkEaLgVgoWs"
      },
      "execution_count": null,
      "outputs": []
    },
    {
      "cell_type": "markdown",
      "source": [
        "## Inspect the data"
      ],
      "metadata": {
        "id": "Xd7uicG9gpEE"
      }
    },
    {
      "cell_type": "code",
      "source": [
        ""
      ],
      "metadata": {
        "id": "R-6FnckEgqoc"
      },
      "execution_count": null,
      "outputs": []
    },
    {
      "cell_type": "markdown",
      "source": [
        "## Detect spikes with a threshold-based approach"
      ],
      "metadata": {
        "id": "4xTNeHuigrLd"
      }
    },
    {
      "cell_type": "code",
      "source": [
        ""
      ],
      "metadata": {
        "id": "7ZncVUF2gtok"
      },
      "execution_count": null,
      "outputs": []
    },
    {
      "cell_type": "markdown",
      "source": [
        "## Hypothesize the correct number of firing neurons"
      ],
      "metadata": {
        "id": "7e786FbRgz1M"
      }
    },
    {
      "cell_type": "code",
      "source": [
        ""
      ],
      "metadata": {
        "id": "iIGL3b6_g29c"
      },
      "execution_count": null,
      "outputs": []
    },
    {
      "cell_type": "markdown",
      "source": [
        "## If a single neuron is present, determine its firing rate"
      ],
      "metadata": {
        "id": "83zTeeyCg3kM"
      }
    },
    {
      "cell_type": "code",
      "source": [
        ""
      ],
      "metadata": {
        "id": "U78IXyAwg-7c"
      },
      "execution_count": null,
      "outputs": []
    },
    {
      "cell_type": "markdown",
      "source": [
        "## Detect spikes with a template matching procedure"
      ],
      "metadata": {
        "id": "_ELbUV4RhBGk"
      }
    },
    {
      "cell_type": "markdown",
      "source": [
        "### Define a template"
      ],
      "metadata": {
        "id": "_IvsIIwAhEyU"
      }
    },
    {
      "cell_type": "code",
      "source": [
        ""
      ],
      "metadata": {
        "id": "kr-AHqlohG2j"
      },
      "execution_count": null,
      "outputs": []
    },
    {
      "cell_type": "markdown",
      "source": [
        "### Calculate the correlation"
      ],
      "metadata": {
        "id": "SMpEa4VMhHWT"
      }
    },
    {
      "cell_type": "code",
      "source": [
        ""
      ],
      "metadata": {
        "id": "T15ybze8hJPj"
      },
      "execution_count": null,
      "outputs": []
    },
    {
      "cell_type": "markdown",
      "source": [
        "### Find spikes from the correlation"
      ],
      "metadata": {
        "id": "v6m41f4vhL1T"
      }
    },
    {
      "cell_type": "code",
      "source": [
        ""
      ],
      "metadata": {
        "id": "Q7Xi1A9KhON6"
      },
      "execution_count": null,
      "outputs": []
    },
    {
      "cell_type": "markdown",
      "source": [
        "## Draw ROC curve (optional, only for `E03_signal1.csv`)"
      ],
      "metadata": {
        "id": "Z29k6aZ_hOik"
      }
    },
    {
      "cell_type": "markdown",
      "source": [
        "On the website you will find a file `E03_indexes1_0.csv` containing the true firing instants for each neuron (careful, those indexes refer to the initial point of the spike, not to its peak). Try to use this information to evaluate, in terms of ROC curve, your threshold-based detector"
      ],
      "metadata": {
        "id": "CFM2yuCZhWND"
      }
    },
    {
      "cell_type": "code",
      "source": [
        ""
      ],
      "metadata": {
        "id": "gC6SQwFkhvil"
      },
      "execution_count": null,
      "outputs": []
    }
  ]
}